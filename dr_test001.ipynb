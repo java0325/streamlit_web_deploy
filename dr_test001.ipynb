{
 "cells": [
  {
   "cell_type": "code",
   "execution_count": 1,
   "id": "532d06c5-0da4-49a6-ba4c-0c010eea11a4",
   "metadata": {},
   "outputs": [],
   "source": [
    "import pandas as pd"
   ]
  },
  {
   "cell_type": "code",
   "execution_count": 18,
   "id": "dd1324ef-d578-4a62-ada2-11b62676ca8d",
   "metadata": {},
   "outputs": [],
   "source": [
    "import streamlit as st"
   ]
  },
  {
   "cell_type": "code",
   "execution_count": 19,
   "id": "cb5d34ae-105a-4626-a429-359e1b353eb9",
   "metadata": {},
   "outputs": [
    {
     "name": "stdout",
     "output_type": "stream",
     "text": [
      "climbscore.png    requirements.txt  test005.py        test010.py\n",
      "dr_rec001.csv     test001.py        test006.py        test011.py\n",
      "dr_rec002.csv     test002.py        test007.py        test012.py\n",
      "dr_test001.ipynb  test003.py        test008.py        test013.py\n",
      "dr_test001.py     test004.py        test009.py        test014.py\n"
     ]
    }
   ],
   "source": [
    "ls"
   ]
  },
  {
   "cell_type": "code",
   "execution_count": 20,
   "id": "ac461b02-cd0f-4830-aa4a-75d9435f19d1",
   "metadata": {},
   "outputs": [],
   "source": [
    "# CSV 파일 경로 설정\n",
    "file_path = 'dr_rec002.csv'"
   ]
  },
  {
   "cell_type": "code",
   "execution_count": 21,
   "id": "093a59d3-56a5-466f-93f9-203728b9c00c",
   "metadata": {},
   "outputs": [],
   "source": [
    "# CSV 파일을 'cp949' 또는 'euc-kr' 인코딩으로 읽기\n",
    "df = pd.read_csv(file_path, encoding='cp949')  # 또는 encoding='euc-kr'"
   ]
  },
  {
   "cell_type": "code",
   "execution_count": 22,
   "id": "2e3dac2c-df62-497c-85cb-d2b3d6fa7d4a",
   "metadata": {},
   "outputs": [
    {
     "data": {
      "text/html": [
       "<div>\n",
       "<style scoped>\n",
       "    .dataframe tbody tr th:only-of-type {\n",
       "        vertical-align: middle;\n",
       "    }\n",
       "\n",
       "    .dataframe tbody tr th {\n",
       "        vertical-align: top;\n",
       "    }\n",
       "\n",
       "    .dataframe thead th {\n",
       "        text-align: right;\n",
       "    }\n",
       "</style>\n",
       "<table border=\"1\" class=\"dataframe\">\n",
       "  <thead>\n",
       "    <tr style=\"text-align: right;\">\n",
       "      <th></th>\n",
       "      <th>date</th>\n",
       "      <th>place</th>\n",
       "      <th>company</th>\n",
       "      <th>runner_name</th>\n",
       "      <th>avg_speed</th>\n",
       "      <th>current_speed</th>\n",
       "      <th>stride</th>\n",
       "      <th>steps</th>\n",
       "    </tr>\n",
       "  </thead>\n",
       "  <tbody>\n",
       "    <tr>\n",
       "      <th>0</th>\n",
       "      <td>2023-09-14</td>\n",
       "      <td>인천 문학 경기장</td>\n",
       "      <td>9.57</td>\n",
       "      <td>조재훈</td>\n",
       "      <td>8 m/s</td>\n",
       "      <td>7 m/s</td>\n",
       "      <td>1.8 m</td>\n",
       "      <td>228 steps/m</td>\n",
       "    </tr>\n",
       "    <tr>\n",
       "      <th>1</th>\n",
       "      <td>2023-09-01</td>\n",
       "      <td>용인종합운동장</td>\n",
       "      <td>빛나</td>\n",
       "      <td>신윤복</td>\n",
       "      <td>8 m/s</td>\n",
       "      <td>7 m/s</td>\n",
       "      <td>1.9 m</td>\n",
       "      <td>229 steps/m</td>\n",
       "    </tr>\n",
       "    <tr>\n",
       "      <th>2</th>\n",
       "      <td>2023-08-15</td>\n",
       "      <td>인천아시아드 주경기장</td>\n",
       "      <td>하니</td>\n",
       "      <td>홍길동</td>\n",
       "      <td>8 m/s</td>\n",
       "      <td>7 m/s</td>\n",
       "      <td>1.10 m</td>\n",
       "      <td>230 steps/m</td>\n",
       "    </tr>\n",
       "  </tbody>\n",
       "</table>\n",
       "</div>"
      ],
      "text/plain": [
       "         date        place company runner_name avg_speed current_speed  \\\n",
       "0  2023-09-14    인천 문학 경기장    9.57         조재훈     8 m/s         7 m/s   \n",
       "1  2023-09-01      용인종합운동장      빛나         신윤복     8 m/s         7 m/s   \n",
       "2  2023-08-15  인천아시아드 주경기장      하니         홍길동     8 m/s         7 m/s   \n",
       "\n",
       "   stride        steps  \n",
       "0   1.8 m  228 steps/m  \n",
       "1   1.9 m  229 steps/m  \n",
       "2  1.10 m  230 steps/m  "
      ]
     },
     "execution_count": 22,
     "metadata": {},
     "output_type": "execute_result"
    }
   ],
   "source": [
    "# DataFrame 출력\n",
    "df"
   ]
  },
  {
   "cell_type": "code",
   "execution_count": 23,
   "id": "b8465d07-7d43-4012-8730-94531551f87d",
   "metadata": {},
   "outputs": [
    {
     "name": "stderr",
     "output_type": "stream",
     "text": [
      "2023-10-13 21:52:19.290 \n",
      "  \u001b[33m\u001b[1mWarning:\u001b[0m to view this Streamlit app on a browser, run it with the following\n",
      "  command:\n",
      "\n",
      "    streamlit run /Users/jasper0325/anaconda3/envs/my_env/lib/python3.11/site-packages/ipykernel_launcher.py [ARGUMENTS]\n"
     ]
    },
    {
     "data": {
      "text/plain": [
       "DeltaGenerator()"
      ]
     },
     "execution_count": 23,
     "metadata": {},
     "output_type": "execute_result"
    }
   ],
   "source": [
    "# Streamlit 애플리케이션 시작\n",
    "st.title('Data Viewer')\n",
    "\n",
    "# Sidebar에 날짜 선택 옵션 추가\n",
    "selected_date = st.sidebar.selectbox('Select a Date', df['date'])\n",
    "\n",
    "# 선택한 날짜에 해당하는 데이터 추출\n",
    "selected_data = df[df['date'] == selected_date]\n",
    "\n",
    "# 선택한 날짜에 대한 데이터 표시\n",
    "st.write(f\"### Data for Selected Date: {selected_date}\")\n",
    "st.table(selected_data[['place', 'company', 'runner_name']])"
   ]
  },
  {
   "cell_type": "code",
   "execution_count": null,
   "id": "70d7c261-dde5-41b0-8263-2be6c731718a",
   "metadata": {},
   "outputs": [
    {
     "name": "stdout",
     "output_type": "stream",
     "text": [
      "\u001b[0m\n",
      "\u001b[34m\u001b[1m  You can now view your Streamlit app in your browser.\u001b[0m\n",
      "\u001b[0m\n",
      "\u001b[34m  Local URL: \u001b[0m\u001b[1mhttp://localhost:8502\u001b[0m\n",
      "\u001b[34m  Network URL: \u001b[0m\u001b[1mhttp://192.168.200.188:8502\u001b[0m\n",
      "\u001b[0m\n",
      "\u001b[34m\u001b[1m  For better performance, install the Watchdog module:\u001b[0m\n",
      "\n",
      "  $ xcode-select --install\n",
      "  $ pip install watchdog\n",
      "            \u001b[0m\n",
      "0.00s - Debugger warning: It seems that frozen modules are being used, which may\n",
      "0.00s - make the debugger miss breakpoints. Please pass -Xfrozen_modules=off\n",
      "0.00s - to python to disable frozen modules.\n",
      "0.00s - Note: Debugging will proceed. Set PYDEVD_DISABLE_FILE_VALIDATION=1 to disable this validation.\n",
      "[IPKernelApp] ERROR | Unable to initialize signal:\n",
      "Traceback (most recent call last):\n",
      "  File \"/Users/jasper0325/anaconda3/envs/my_env/lib/python3.11/site-packages/ipykernel/kernelapp.py\", line 698, in initialize\n",
      "    self.init_signal()\n",
      "  File \"/Users/jasper0325/anaconda3/envs/my_env/lib/python3.11/site-packages/ipykernel/kernelapp.py\", line 542, in init_signal\n",
      "    signal.signal(signal.SIGINT, signal.SIG_IGN)\n",
      "  File \"/Users/jasper0325/anaconda3/envs/my_env/lib/python3.11/signal.py\", line 56, in signal\n",
      "    handler = _signal.signal(_enum_to_int(signalnum), _enum_to_int(handler))\n",
      "              ^^^^^^^^^^^^^^^^^^^^^^^^^^^^^^^^^^^^^^^^^^^^^^^^^^^^^^^^^^^^^^\n",
      "ValueError: signal only works in main thread of the main interpreter\n",
      "2023-10-13 21:53:47.191 Uncaught app exception\n",
      "Traceback (most recent call last):\n",
      "  File \"/Users/jasper0325/anaconda3/envs/my_env/lib/python3.11/site-packages/streamlit/runtime/scriptrunner/script_runner.py\", line 541, in _run_script\n",
      "    exec(code, module.__dict__)\n",
      "  File \"/Users/jasper0325/anaconda3/envs/my_env/lib/python3.11/site-packages/ipykernel_launcher.py\", line 17, in <module>\n",
      "    app.launch_new_instance()\n",
      "  File \"/Users/jasper0325/anaconda3/envs/my_env/lib/python3.11/site-packages/traitlets/config/application.py\", line 1052, in launch_instance\n",
      "    app.initialize(argv)\n",
      "  File \"/Users/jasper0325/anaconda3/envs/my_env/lib/python3.11/site-packages/traitlets/config/application.py\", line 117, in inner\n",
      "    return method(app, *args, **kwargs)\n",
      "           ^^^^^^^^^^^^^^^^^^^^^^^^^^^^\n",
      "  File \"/Users/jasper0325/anaconda3/envs/my_env/lib/python3.11/site-packages/ipykernel/kernelapp.py\", line 689, in initialize\n",
      "    self.init_sockets()\n",
      "  File \"/Users/jasper0325/anaconda3/envs/my_env/lib/python3.11/site-packages/ipykernel/kernelapp.py\", line 322, in init_sockets\n",
      "    assert self.context is None, \"init_sockets cannot be called twice!\"\n",
      "           ^^^^^^^^^^^^^^^^^^^^\n",
      "AssertionError: init_sockets cannot be called twice!\n",
      "2023-10-13 21:53:55.168 Uncaught app exception\n",
      "Traceback (most recent call last):\n",
      "  File \"/Users/jasper0325/anaconda3/envs/my_env/lib/python3.11/site-packages/streamlit/runtime/scriptrunner/script_runner.py\", line 541, in _run_script\n",
      "    exec(code, module.__dict__)\n",
      "  File \"/Users/jasper0325/anaconda3/envs/my_env/lib/python3.11/site-packages/ipykernel_launcher.py\", line 17, in <module>\n",
      "    app.launch_new_instance()\n",
      "  File \"/Users/jasper0325/anaconda3/envs/my_env/lib/python3.11/site-packages/traitlets/config/application.py\", line 1052, in launch_instance\n",
      "    app.initialize(argv)\n",
      "  File \"/Users/jasper0325/anaconda3/envs/my_env/lib/python3.11/site-packages/traitlets/config/application.py\", line 117, in inner\n",
      "    return method(app, *args, **kwargs)\n",
      "           ^^^^^^^^^^^^^^^^^^^^^^^^^^^^\n",
      "  File \"/Users/jasper0325/anaconda3/envs/my_env/lib/python3.11/site-packages/ipykernel/kernelapp.py\", line 689, in initialize\n",
      "    self.init_sockets()\n",
      "  File \"/Users/jasper0325/anaconda3/envs/my_env/lib/python3.11/site-packages/ipykernel/kernelapp.py\", line 322, in init_sockets\n",
      "    assert self.context is None, \"init_sockets cannot be called twice!\"\n",
      "           ^^^^^^^^^^^^^^^^^^^^\n",
      "AssertionError: init_sockets cannot be called twice!\n"
     ]
    }
   ],
   "source": [
    "!streamlit run /Users/jasper0325/anaconda3/envs/my_env/lib/python3.11/site-packages/ipykernel_launcher.py"
   ]
  },
  {
   "cell_type": "code",
   "execution_count": null,
   "id": "600fc027-ade7-4a06-aec5-ee53d5e21284",
   "metadata": {},
   "outputs": [],
   "source": []
  }
 ],
 "metadata": {
  "kernelspec": {
   "display_name": "Python 3 (ipykernel)",
   "language": "python",
   "name": "python3"
  },
  "language_info": {
   "codemirror_mode": {
    "name": "ipython",
    "version": 3
   },
   "file_extension": ".py",
   "mimetype": "text/x-python",
   "name": "python",
   "nbconvert_exporter": "python",
   "pygments_lexer": "ipython3",
   "version": "3.11.5"
  }
 },
 "nbformat": 4,
 "nbformat_minor": 5
}
